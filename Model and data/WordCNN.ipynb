{
 "cells": [
  {
   "cell_type": "markdown",
   "metadata": {},
   "source": [
    "# Load packages"
   ]
  },
  {
   "cell_type": "code",
   "execution_count": 1,
   "metadata": {},
   "outputs": [],
   "source": [
    "# Ignore warnings\n",
    "import warnings\n",
    "\n",
    "def warn(*args, **kwargs):\n",
    "    pass\n",
    "\n",
    "warnings.warn = warn"
   ]
  },
  {
   "cell_type": "code",
   "execution_count": 2,
   "metadata": {},
   "outputs": [
    {
     "name": "stderr",
     "output_type": "stream",
     "text": [
      "Using TensorFlow backend.\n"
     ]
    }
   ],
   "source": [
    "import os\n",
    "import time\n",
    "import numpy as np\n",
    "import pandas as pd\n",
    "import re\n",
    "\n",
    "import keras\n",
    "from keras import *\n",
    "from keras import layers\n",
    "from keras.layers import Embedding, Conv1D, GlobalMaxPooling1D, Dense, Dropout\n",
    "from keras.models import Model\n",
    "from keras.preprocessing import *\n",
    "from keras.preprocessing.text import Tokenizer\n",
    "from keras.preprocessing.sequence import pad_sequences\n",
    "\n",
    "from sklearn.model_selection import train_test_split\n",
    "from sklearn.metrics import accuracy_score\n",
    "\n",
    "import pickle\n",
    "\n",
    "import seaborn as sns\n",
    "import matplotlib.pyplot as plt"
   ]
  },
  {
   "cell_type": "code",
   "execution_count": 3,
   "metadata": {},
   "outputs": [],
   "source": [
    "#for reproducible results\n",
    "from numpy.random import seed\n",
    "seed(302)\n",
    "from tensorflow import set_random_seed\n",
    "set_random_seed(302)"
   ]
  },
  {
   "cell_type": "markdown",
   "metadata": {},
   "source": [
    "# Load and explore data"
   ]
  },
  {
   "cell_type": "code",
   "execution_count": 4,
   "metadata": {},
   "outputs": [],
   "source": [
    "sms_df=pd.read_csv('SMSSpamCollection',sep='\\t',header=None)"
   ]
  },
  {
   "cell_type": "code",
   "execution_count": 5,
   "metadata": {},
   "outputs": [
    {
     "data": {
      "text/html": [
       "<div>\n",
       "<style scoped>\n",
       "    .dataframe tbody tr th:only-of-type {\n",
       "        vertical-align: middle;\n",
       "    }\n",
       "\n",
       "    .dataframe tbody tr th {\n",
       "        vertical-align: top;\n",
       "    }\n",
       "\n",
       "    .dataframe thead th {\n",
       "        text-align: right;\n",
       "    }\n",
       "</style>\n",
       "<table border=\"1\" class=\"dataframe\">\n",
       "  <thead>\n",
       "    <tr style=\"text-align: right;\">\n",
       "      <th></th>\n",
       "      <th>0</th>\n",
       "      <th>1</th>\n",
       "    </tr>\n",
       "  </thead>\n",
       "  <tbody>\n",
       "    <tr>\n",
       "      <th>0</th>\n",
       "      <td>ham</td>\n",
       "      <td>Go until jurong point, crazy.. Available only ...</td>\n",
       "    </tr>\n",
       "    <tr>\n",
       "      <th>1</th>\n",
       "      <td>ham</td>\n",
       "      <td>Ok lar... Joking wif u oni...</td>\n",
       "    </tr>\n",
       "    <tr>\n",
       "      <th>2</th>\n",
       "      <td>spam</td>\n",
       "      <td>Free entry in 2 a wkly comp to win FA Cup fina...</td>\n",
       "    </tr>\n",
       "    <tr>\n",
       "      <th>3</th>\n",
       "      <td>ham</td>\n",
       "      <td>U dun say so early hor... U c already then say...</td>\n",
       "    </tr>\n",
       "    <tr>\n",
       "      <th>4</th>\n",
       "      <td>ham</td>\n",
       "      <td>Nah I don't think he goes to usf, he lives aro...</td>\n",
       "    </tr>\n",
       "  </tbody>\n",
       "</table>\n",
       "</div>"
      ],
      "text/plain": [
       "      0                                                  1\n",
       "0   ham  Go until jurong point, crazy.. Available only ...\n",
       "1   ham                      Ok lar... Joking wif u oni...\n",
       "2  spam  Free entry in 2 a wkly comp to win FA Cup fina...\n",
       "3   ham  U dun say so early hor... U c already then say...\n",
       "4   ham  Nah I don't think he goes to usf, he lives aro..."
      ]
     },
     "execution_count": 5,
     "metadata": {},
     "output_type": "execute_result"
    }
   ],
   "source": [
    "sms_df.head()"
   ]
  },
  {
   "cell_type": "code",
   "execution_count": 6,
   "metadata": {},
   "outputs": [
    {
     "data": {
      "text/html": [
       "<div>\n",
       "<style scoped>\n",
       "    .dataframe tbody tr th:only-of-type {\n",
       "        vertical-align: middle;\n",
       "    }\n",
       "\n",
       "    .dataframe tbody tr th {\n",
       "        vertical-align: top;\n",
       "    }\n",
       "\n",
       "    .dataframe thead th {\n",
       "        text-align: right;\n",
       "    }\n",
       "</style>\n",
       "<table border=\"1\" class=\"dataframe\">\n",
       "  <thead>\n",
       "    <tr style=\"text-align: right;\">\n",
       "      <th></th>\n",
       "      <th>0</th>\n",
       "      <th>1</th>\n",
       "    </tr>\n",
       "  </thead>\n",
       "  <tbody>\n",
       "    <tr>\n",
       "      <th>5567</th>\n",
       "      <td>spam</td>\n",
       "      <td>This is the 2nd time we have tried 2 contact u...</td>\n",
       "    </tr>\n",
       "    <tr>\n",
       "      <th>5568</th>\n",
       "      <td>ham</td>\n",
       "      <td>Will ü b going to esplanade fr home?</td>\n",
       "    </tr>\n",
       "    <tr>\n",
       "      <th>5569</th>\n",
       "      <td>ham</td>\n",
       "      <td>Pity, * was in mood for that. So...any other s...</td>\n",
       "    </tr>\n",
       "    <tr>\n",
       "      <th>5570</th>\n",
       "      <td>ham</td>\n",
       "      <td>The guy did some bitching but I acted like i'd...</td>\n",
       "    </tr>\n",
       "    <tr>\n",
       "      <th>5571</th>\n",
       "      <td>ham</td>\n",
       "      <td>Rofl. Its true to its name</td>\n",
       "    </tr>\n",
       "  </tbody>\n",
       "</table>\n",
       "</div>"
      ],
      "text/plain": [
       "         0                                                  1\n",
       "5567  spam  This is the 2nd time we have tried 2 contact u...\n",
       "5568   ham               Will ü b going to esplanade fr home?\n",
       "5569   ham  Pity, * was in mood for that. So...any other s...\n",
       "5570   ham  The guy did some bitching but I acted like i'd...\n",
       "5571   ham                         Rofl. Its true to its name"
      ]
     },
     "execution_count": 6,
     "metadata": {},
     "output_type": "execute_result"
    }
   ],
   "source": [
    "sms_df.tail()"
   ]
  },
  {
   "cell_type": "code",
   "execution_count": 7,
   "metadata": {},
   "outputs": [],
   "source": [
    "# rename variables\n",
    "sms_df=sms_df.rename(columns={0: 'Labels', 1: 'Text'})\n",
    "\n",
    "# create binary where 1 = spam and 0 = ham\n",
    "sms_df['Labels_Binary'] = 0\n",
    "sms_df.loc[sms_df['Labels']=='spam', 'Labels_Binary'] = 1"
   ]
  },
  {
   "cell_type": "code",
   "execution_count": 8,
   "metadata": {},
   "outputs": [],
   "source": [
    "texts = sms_df['Text']\n",
    "labels = sms_df['Labels_Binary']"
   ]
  },
  {
   "cell_type": "markdown",
   "metadata": {},
   "source": [
    "Partition data into train, valid, test"
   ]
  },
  {
   "cell_type": "code",
   "execution_count": 9,
   "metadata": {},
   "outputs": [],
   "source": [
    "#Create train/test sample\n",
    "other_texts, test_texts, other_labels, test_labels  = train_test_split(texts, labels, test_size=0.1, random_state=302)\n",
    "#Create validation sample\n",
    "train_texts, valid_texts, train_labels, valid_labels  = train_test_split(other_texts, other_labels, test_size=0.2, random_state=302)"
   ]
  },
  {
   "cell_type": "markdown",
   "metadata": {},
   "source": [
    "Evaluate ham/spam breakdown"
   ]
  },
  {
   "cell_type": "code",
   "execution_count": 10,
   "metadata": {},
   "outputs": [
    {
     "data": {
      "image/png": "[encoded data removed]",
      "text/plain": [
       "<Figure size 432x432 with 1 Axes>"
      ]
     },
     "metadata": {},
     "output_type": "display_data"
    }
   ],
   "source": [
    "cases_count = labels.value_counts(dropna=False)\n",
    "        \n",
    "# Plot  results \n",
    "plt.figure(figsize=(6,6))\n",
    "sns.barplot(x=cases_count.index, y=cases_count.values)\n",
    "plt.ylabel('Texts', fontsize=12)\n",
    "plt.xticks(range(len(cases_count.index)), ['Ham', 'Spam'])\n",
    "\n",
    "plt.show()"
   ]
  },
  {
   "cell_type": "markdown",
   "metadata": {},
   "source": [
    "# Train model"
   ]
  },
  {
   "cell_type": "code",
   "execution_count": 11,
   "metadata": {},
   "outputs": [],
   "source": [
    "# Define vocabulary size (you can tune this parameter and evaluate model performance)\n",
    "VOCABULARY_SIZE = 5000"
   ]
  },
  {
   "cell_type": "code",
   "execution_count": 12,
   "metadata": {},
   "outputs": [],
   "source": [
    "# Create input feature arrays\n",
    "tokenizer = Tokenizer(num_words=VOCABULARY_SIZE)\n",
    "tokenizer.fit_on_texts(train_texts)\n",
    "\n",
    "# Convert words into word ids\n",
    "meanLength = np.mean([len(item.split(\" \")) for item in train_texts])\n",
    "MAX_SENTENCE_LENGTH = int(meanLength + 5) # we let a text go 10 words longer than the mean text length.\n",
    "\n",
    "# Convert train, validation, and test text into lists with word ids\n",
    "trainFeatures = tokenizer.texts_to_sequences(train_texts)\n",
    "trainFeatures = pad_sequences(trainFeatures, MAX_SENTENCE_LENGTH, padding='post')\n",
    "trainLabels = train_labels.values\n",
    "\n",
    "validFeatures = tokenizer.texts_to_sequences(valid_texts)\n",
    "validFeatures = pad_sequences(validFeatures, MAX_SENTENCE_LENGTH, padding='post')\n",
    "validLabels = valid_labels.values\n",
    "\n",
    "testFeatures = tokenizer.texts_to_sequences(test_texts)\n",
    "testFeatures = pad_sequences(testFeatures, MAX_SENTENCE_LENGTH, padding='post')\n",
    "testLabels = test_labels.values"
   ]
  },
  {
   "cell_type": "code",
   "execution_count": 13,
   "metadata": {},
   "outputs": [
    {
     "data": {
      "text/plain": [
       "20"
      ]
     },
     "execution_count": 13,
     "metadata": {},
     "output_type": "execute_result"
    }
   ],
   "source": [
    "# we will use this hardcoded sentence length in the prep for the flask app\n",
    "MAX_SENTENCE_LENGTH"
   ]
  },
  {
   "cell_type": "code",
   "execution_count": 14,
   "metadata": {},
   "outputs": [],
   "source": [
    "# Define filter and kernel size for CNN (can adjust in tuning model)\n",
    "FILTERS_SIZE = 16\n",
    "KERNEL_SIZE = 5\n",
    "\n",
    "# Define embeddings dimensions (columns in matrix fed into CNN and nodes in hidden layer of built-in keras function)\n",
    "EMBEDDINGS_DIM = 10\n",
    "\n",
    "# Hyperparameters for model tuning\n",
    "LEARNING_RATE = 0.001\n",
    "BATCH_SIZE = 32\n",
    "EPOCHS = 7"
   ]
  },
  {
   "cell_type": "code",
   "execution_count": 15,
   "metadata": {},
   "outputs": [
    {
     "name": "stdout",
     "output_type": "stream",
     "text": [
      "WARNING:tensorflow:From C:\\Users\\dlorenz\\AppData\\Local\\Continuum\\anaconda3\\lib\\site-packages\\tensorflow\\python\\framework\\op_def_library.py:263: colocate_with (from tensorflow.python.framework.ops) is deprecated and will be removed in a future version.\n",
      "Instructions for updating:\n",
      "Colocations handled automatically by placer.\n",
      "WARNING:tensorflow:From C:\\Users\\dlorenz\\AppData\\Local\\Continuum\\anaconda3\\lib\\site-packages\\keras\\backend\\tensorflow_backend.py:3445: calling dropout (from tensorflow.python.ops.nn_ops) with keep_prob is deprecated and will be removed in a future version.\n",
      "Instructions for updating:\n",
      "Please use `rate` instead of `keep_prob`. Rate should be set to `rate = 1 - keep_prob`.\n",
      "_________________________________________________________________\n",
      "Layer (type)                 Output Shape              Param #   \n",
      "=================================================================\n",
      "embedding_1 (Embedding)      (None, 20, 10)            50010     \n",
      "_________________________________________________________________\n",
      "conv1d_1 (Conv1D)            (None, 16, 16)            816       \n",
      "_________________________________________________________________\n",
      "dropout_1 (Dropout)          (None, 16, 16)            0         \n",
      "_________________________________________________________________\n",
      "global_max_pooling1d_1 (Glob (None, 16)                0         \n",
      "_________________________________________________________________\n",
      "dropout_2 (Dropout)          (None, 16)                0         \n",
      "_________________________________________________________________\n",
      "dense_1 (Dense)              (None, 8)                 136       \n",
      "_________________________________________________________________\n",
      "dense_2 (Dense)              (None, 1)                 9         \n",
      "=================================================================\n",
      "Total params: 50,971\n",
      "Trainable params: 50,971\n",
      "Non-trainable params: 0\n",
      "_________________________________________________________________\n",
      "None\n"
     ]
    }
   ],
   "source": [
    "# Word CNN\n",
    "model = Sequential()\n",
    "\n",
    "# We use built-in keras funtion to generate embeddings. Another option is pre-trained embeddings with Word2vec or GloVe.\n",
    "model.add(Embedding(input_dim=VOCABULARY_SIZE + 1, output_dim=EMBEDDINGS_DIM, input_length=len(trainFeatures[0])))\n",
    "model.add(Conv1D(FILTERS_SIZE, KERNEL_SIZE, activation='relu'))\n",
    "model.add(Dropout(0.5))\n",
    "model.add(GlobalMaxPooling1D())\n",
    "model.add(Dropout(0.5))\n",
    "model.add(Dense(8, activation='relu'))\n",
    "model.add(Dense(1, activation='sigmoid'))\n",
    "            \n",
    "optimizer = optimizers.Adam(lr=LEARNING_RATE)\n",
    "model.compile(optimizer=optimizer,loss='binary_crossentropy',metrics=['accuracy'])\n",
    "\n",
    "print(model.summary())"
   ]
  },
  {
   "cell_type": "code",
   "execution_count": 16,
   "metadata": {},
   "outputs": [
    {
     "name": "stdout",
     "output_type": "stream",
     "text": [
      "WARNING:tensorflow:From C:\\Users\\dlorenz\\AppData\\Local\\Continuum\\anaconda3\\lib\\site-packages\\tensorflow\\python\\ops\\math_ops.py:3066: to_int32 (from tensorflow.python.ops.math_ops) is deprecated and will be removed in a future version.\n",
      "Instructions for updating:\n",
      "Use tf.cast instead.\n",
      "WARNING:tensorflow:From C:\\Users\\dlorenz\\AppData\\Local\\Continuum\\anaconda3\\lib\\site-packages\\tensorflow\\python\\ops\\math_grad.py:102: div (from tensorflow.python.ops.math_ops) is deprecated and will be removed in a future version.\n",
      "Instructions for updating:\n",
      "Deprecated in favor of operator or tf.math.divide.\n",
      "Train on 4011 samples, validate on 1003 samples\n",
      "Epoch 1/7\n",
      "4011/4011 [==============================] - 1s 288us/step - loss: 0.4395 - acc: 0.8556 - val_loss: 0.2996 - val_acc: 0.8694\n",
      "Epoch 2/7\n",
      "4011/4011 [==============================] - 1s 133us/step - loss: 0.2409 - acc: 0.8711 - val_loss: 0.2698 - val_acc: 0.8694\n",
      "Epoch 3/7\n",
      "4011/4011 [==============================] - 1s 133us/step - loss: 0.1841 - acc: 0.9274 - val_loss: 0.1958 - val_acc: 0.9671\n",
      "Epoch 4/7\n",
      "4011/4011 [==============================] - 1s 130us/step - loss: 0.1122 - acc: 0.9716 - val_loss: 0.1363 - val_acc: 0.9791\n",
      "Epoch 5/7\n",
      "4011/4011 [==============================] - 1s 136us/step - loss: 0.0710 - acc: 0.9818 - val_loss: 0.1058 - val_acc: 0.9831\n",
      "Epoch 6/7\n",
      "4011/4011 [==============================] - 1s 132us/step - loss: 0.0599 - acc: 0.9830 - val_loss: 0.0849 - val_acc: 0.9840\n",
      "Epoch 7/7\n",
      "4011/4011 [==============================] - 1s 132us/step - loss: 0.0447 - acc: 0.9875 - val_loss: 0.0718 - val_acc: 0.9870\n"
     ]
    }
   ],
   "source": [
    "history = model.fit(trainFeatures, trainLabels, validation_data = (validFeatures, validLabels), batch_size=BATCH_SIZE, epochs=EPOCHS)"
   ]
  },
  {
   "cell_type": "code",
   "execution_count": 17,
   "metadata": {},
   "outputs": [
    {
     "data": {
      "image/png": "[encoded data removed]",
      "text/plain": [
       "<Figure size 432x288 with 1 Axes>"
      ]
     },
     "metadata": {},
     "output_type": "display_data"
    },
    {
     "data": {
      "text/plain": [
       "<Figure size 1440x720 with 0 Axes>"
      ]
     },
     "metadata": {},
     "output_type": "display_data"
    }
   ],
   "source": [
    "# summarize accuracy by epoch\n",
    "plt.plot(history.history['acc'])\n",
    "plt.plot(history.history['val_acc'])\n",
    "plt.title('model accuracy')\n",
    "plt.ylabel('accuracy')\n",
    "plt.xlabel('epochs')\n",
    "plt.legend(['training', 'validation'], loc='upper left')\n",
    "plt.figure(figsize=(20,10))\n",
    "plt.show()"
   ]
  },
  {
   "cell_type": "markdown",
   "metadata": {},
   "source": [
    "Get examples from embeddings"
   ]
  },
  {
   "cell_type": "code",
   "execution_count": 18,
   "metadata": {},
   "outputs": [],
   "source": [
    "from keras import backend as K\n",
    "\n",
    "get_activations = K.function([model.layers[0].input, K.learning_phase()], [model.layers[0].output,])\n",
    "activations = get_activations([trainFeatures,0])[0]"
   ]
  },
  {
   "cell_type": "code",
   "execution_count": 19,
   "metadata": {
    "scrolled": true
   },
   "outputs": [
    {
     "data": {
      "text/html": [
       "<div>\n",
       "<style scoped>\n",
       "    .dataframe tbody tr th:only-of-type {\n",
       "        vertical-align: middle;\n",
       "    }\n",
       "\n",
       "    .dataframe tbody tr th {\n",
       "        vertical-align: top;\n",
       "    }\n",
       "\n",
       "    .dataframe thead th {\n",
       "        text-align: right;\n",
       "    }\n",
       "</style>\n",
       "<table border=\"1\" class=\"dataframe\">\n",
       "  <thead>\n",
       "    <tr style=\"text-align: right;\">\n",
       "      <th></th>\n",
       "      <th>Text</th>\n",
       "    </tr>\n",
       "  </thead>\n",
       "  <tbody>\n",
       "    <tr>\n",
       "      <th>2758</th>\n",
       "      <td>Yo we are watching a movie on netflix</td>\n",
       "    </tr>\n",
       "  </tbody>\n",
       "</table>\n",
       "</div>"
      ],
      "text/plain": [
       "                                       Text\n",
       "2758  Yo we are watching a movie on netflix"
      ]
     },
     "execution_count": 19,
     "metadata": {},
     "output_type": "execute_result"
    }
   ],
   "source": [
    "pd.set_option('display.max_colwidth', -1)\n",
    "pd.DataFrame(train_texts).iloc[[113]]"
   ]
  },
  {
   "cell_type": "code",
   "execution_count": 20,
   "metadata": {},
   "outputs": [
    {
     "data": {
      "text/plain": [
       "array([ 309,   38,   22,  350,    4,  552,   19, 3691,    0,    0,    0,\n",
       "          0,    0,    0,    0,    0,    0,    0,    0,    0])"
      ]
     },
     "execution_count": 20,
     "metadata": {},
     "output_type": "execute_result"
    }
   ],
   "source": [
    "trainFeatures[113]"
   ]
  },
  {
   "cell_type": "code",
   "execution_count": 21,
   "metadata": {},
   "outputs": [],
   "source": [
    "df1 = pd.DataFrame(activations[113])"
   ]
  },
  {
   "cell_type": "code",
   "execution_count": 22,
   "metadata": {},
   "outputs": [
    {
     "data": {
      "text/html": [
       "<div>\n",
       "<style scoped>\n",
       "    .dataframe tbody tr th:only-of-type {\n",
       "        vertical-align: middle;\n",
       "    }\n",
       "\n",
       "    .dataframe tbody tr th {\n",
       "        vertical-align: top;\n",
       "    }\n",
       "\n",
       "    .dataframe thead th {\n",
       "        text-align: right;\n",
       "    }\n",
       "</style>\n",
       "<table border=\"1\" class=\"dataframe\">\n",
       "  <thead>\n",
       "    <tr style=\"text-align: right;\">\n",
       "      <th></th>\n",
       "      <th>0</th>\n",
       "      <th>1</th>\n",
       "      <th>2</th>\n",
       "      <th>3</th>\n",
       "      <th>4</th>\n",
       "      <th>5</th>\n",
       "      <th>6</th>\n",
       "      <th>7</th>\n",
       "      <th>8</th>\n",
       "      <th>9</th>\n",
       "    </tr>\n",
       "  </thead>\n",
       "  <tbody>\n",
       "    <tr>\n",
       "      <th>0</th>\n",
       "      <td>-0.006445</td>\n",
       "      <td>0.053770</td>\n",
       "      <td>0.043996</td>\n",
       "      <td>0.001513</td>\n",
       "      <td>0.030903</td>\n",
       "      <td>0.005937</td>\n",
       "      <td>-0.059703</td>\n",
       "      <td>-0.075510</td>\n",
       "      <td>-0.012467</td>\n",
       "      <td>0.028569</td>\n",
       "    </tr>\n",
       "    <tr>\n",
       "      <th>1</th>\n",
       "      <td>0.006317</td>\n",
       "      <td>0.028329</td>\n",
       "      <td>0.026945</td>\n",
       "      <td>-0.008623</td>\n",
       "      <td>0.061000</td>\n",
       "      <td>0.033060</td>\n",
       "      <td>0.000232</td>\n",
       "      <td>0.019226</td>\n",
       "      <td>-0.026690</td>\n",
       "      <td>-0.006966</td>\n",
       "    </tr>\n",
       "    <tr>\n",
       "      <th>2</th>\n",
       "      <td>0.092436</td>\n",
       "      <td>0.071748</td>\n",
       "      <td>0.047076</td>\n",
       "      <td>0.051690</td>\n",
       "      <td>0.000722</td>\n",
       "      <td>0.017235</td>\n",
       "      <td>-0.028312</td>\n",
       "      <td>-0.028541</td>\n",
       "      <td>-0.024147</td>\n",
       "      <td>0.095749</td>\n",
       "    </tr>\n",
       "    <tr>\n",
       "      <th>3</th>\n",
       "      <td>0.132012</td>\n",
       "      <td>0.095541</td>\n",
       "      <td>0.082435</td>\n",
       "      <td>-0.039043</td>\n",
       "      <td>0.054603</td>\n",
       "      <td>-0.079301</td>\n",
       "      <td>-0.126485</td>\n",
       "      <td>-0.128663</td>\n",
       "      <td>0.030744</td>\n",
       "      <td>0.058970</td>\n",
       "    </tr>\n",
       "    <tr>\n",
       "      <th>4</th>\n",
       "      <td>-0.012164</td>\n",
       "      <td>-0.065566</td>\n",
       "      <td>0.031306</td>\n",
       "      <td>-0.045708</td>\n",
       "      <td>-0.028781</td>\n",
       "      <td>-0.031413</td>\n",
       "      <td>-0.033747</td>\n",
       "      <td>0.102661</td>\n",
       "      <td>-0.016219</td>\n",
       "      <td>-0.031906</td>\n",
       "    </tr>\n",
       "    <tr>\n",
       "      <th>5</th>\n",
       "      <td>0.036690</td>\n",
       "      <td>0.045270</td>\n",
       "      <td>-0.026841</td>\n",
       "      <td>-0.105856</td>\n",
       "      <td>0.092024</td>\n",
       "      <td>-0.120458</td>\n",
       "      <td>-0.092930</td>\n",
       "      <td>0.005309</td>\n",
       "      <td>0.133586</td>\n",
       "      <td>0.032717</td>\n",
       "    </tr>\n",
       "    <tr>\n",
       "      <th>6</th>\n",
       "      <td>-0.029613</td>\n",
       "      <td>0.007504</td>\n",
       "      <td>0.021186</td>\n",
       "      <td>-0.050232</td>\n",
       "      <td>0.046458</td>\n",
       "      <td>-0.010115</td>\n",
       "      <td>-0.000169</td>\n",
       "      <td>-0.035338</td>\n",
       "      <td>-0.005546</td>\n",
       "      <td>0.019186</td>\n",
       "    </tr>\n",
       "    <tr>\n",
       "      <th>7</th>\n",
       "      <td>-0.024314</td>\n",
       "      <td>0.042671</td>\n",
       "      <td>-0.003475</td>\n",
       "      <td>-0.035902</td>\n",
       "      <td>0.043274</td>\n",
       "      <td>-0.047120</td>\n",
       "      <td>-0.032321</td>\n",
       "      <td>-0.027609</td>\n",
       "      <td>0.034321</td>\n",
       "      <td>0.033411</td>\n",
       "    </tr>\n",
       "    <tr>\n",
       "      <th>8</th>\n",
       "      <td>0.085031</td>\n",
       "      <td>0.082097</td>\n",
       "      <td>-0.045319</td>\n",
       "      <td>-0.007801</td>\n",
       "      <td>0.046190</td>\n",
       "      <td>-0.052575</td>\n",
       "      <td>-0.009507</td>\n",
       "      <td>-0.085788</td>\n",
       "      <td>0.007440</td>\n",
       "      <td>0.087125</td>\n",
       "    </tr>\n",
       "    <tr>\n",
       "      <th>9</th>\n",
       "      <td>0.085031</td>\n",
       "      <td>0.082097</td>\n",
       "      <td>-0.045319</td>\n",
       "      <td>-0.007801</td>\n",
       "      <td>0.046190</td>\n",
       "      <td>-0.052575</td>\n",
       "      <td>-0.009507</td>\n",
       "      <td>-0.085788</td>\n",
       "      <td>0.007440</td>\n",
       "      <td>0.087125</td>\n",
       "    </tr>\n",
       "    <tr>\n",
       "      <th>10</th>\n",
       "      <td>0.085031</td>\n",
       "      <td>0.082097</td>\n",
       "      <td>-0.045319</td>\n",
       "      <td>-0.007801</td>\n",
       "      <td>0.046190</td>\n",
       "      <td>-0.052575</td>\n",
       "      <td>-0.009507</td>\n",
       "      <td>-0.085788</td>\n",
       "      <td>0.007440</td>\n",
       "      <td>0.087125</td>\n",
       "    </tr>\n",
       "    <tr>\n",
       "      <th>11</th>\n",
       "      <td>0.085031</td>\n",
       "      <td>0.082097</td>\n",
       "      <td>-0.045319</td>\n",
       "      <td>-0.007801</td>\n",
       "      <td>0.046190</td>\n",
       "      <td>-0.052575</td>\n",
       "      <td>-0.009507</td>\n",
       "      <td>-0.085788</td>\n",
       "      <td>0.007440</td>\n",
       "      <td>0.087125</td>\n",
       "    </tr>\n",
       "    <tr>\n",
       "      <th>12</th>\n",
       "      <td>0.085031</td>\n",
       "      <td>0.082097</td>\n",
       "      <td>-0.045319</td>\n",
       "      <td>-0.007801</td>\n",
       "      <td>0.046190</td>\n",
       "      <td>-0.052575</td>\n",
       "      <td>-0.009507</td>\n",
       "      <td>-0.085788</td>\n",
       "      <td>0.007440</td>\n",
       "      <td>0.087125</td>\n",
       "    </tr>\n",
       "    <tr>\n",
       "      <th>13</th>\n",
       "      <td>0.085031</td>\n",
       "      <td>0.082097</td>\n",
       "      <td>-0.045319</td>\n",
       "      <td>-0.007801</td>\n",
       "      <td>0.046190</td>\n",
       "      <td>-0.052575</td>\n",
       "      <td>-0.009507</td>\n",
       "      <td>-0.085788</td>\n",
       "      <td>0.007440</td>\n",
       "      <td>0.087125</td>\n",
       "    </tr>\n",
       "    <tr>\n",
       "      <th>14</th>\n",
       "      <td>0.085031</td>\n",
       "      <td>0.082097</td>\n",
       "      <td>-0.045319</td>\n",
       "      <td>-0.007801</td>\n",
       "      <td>0.046190</td>\n",
       "      <td>-0.052575</td>\n",
       "      <td>-0.009507</td>\n",
       "      <td>-0.085788</td>\n",
       "      <td>0.007440</td>\n",
       "      <td>0.087125</td>\n",
       "    </tr>\n",
       "    <tr>\n",
       "      <th>15</th>\n",
       "      <td>0.085031</td>\n",
       "      <td>0.082097</td>\n",
       "      <td>-0.045319</td>\n",
       "      <td>-0.007801</td>\n",
       "      <td>0.046190</td>\n",
       "      <td>-0.052575</td>\n",
       "      <td>-0.009507</td>\n",
       "      <td>-0.085788</td>\n",
       "      <td>0.007440</td>\n",
       "      <td>0.087125</td>\n",
       "    </tr>\n",
       "    <tr>\n",
       "      <th>16</th>\n",
       "      <td>0.085031</td>\n",
       "      <td>0.082097</td>\n",
       "      <td>-0.045319</td>\n",
       "      <td>-0.007801</td>\n",
       "      <td>0.046190</td>\n",
       "      <td>-0.052575</td>\n",
       "      <td>-0.009507</td>\n",
       "      <td>-0.085788</td>\n",
       "      <td>0.007440</td>\n",
       "      <td>0.087125</td>\n",
       "    </tr>\n",
       "    <tr>\n",
       "      <th>17</th>\n",
       "      <td>0.085031</td>\n",
       "      <td>0.082097</td>\n",
       "      <td>-0.045319</td>\n",
       "      <td>-0.007801</td>\n",
       "      <td>0.046190</td>\n",
       "      <td>-0.052575</td>\n",
       "      <td>-0.009507</td>\n",
       "      <td>-0.085788</td>\n",
       "      <td>0.007440</td>\n",
       "      <td>0.087125</td>\n",
       "    </tr>\n",
       "    <tr>\n",
       "      <th>18</th>\n",
       "      <td>0.085031</td>\n",
       "      <td>0.082097</td>\n",
       "      <td>-0.045319</td>\n",
       "      <td>-0.007801</td>\n",
       "      <td>0.046190</td>\n",
       "      <td>-0.052575</td>\n",
       "      <td>-0.009507</td>\n",
       "      <td>-0.085788</td>\n",
       "      <td>0.007440</td>\n",
       "      <td>0.087125</td>\n",
       "    </tr>\n",
       "    <tr>\n",
       "      <th>19</th>\n",
       "      <td>0.085031</td>\n",
       "      <td>0.082097</td>\n",
       "      <td>-0.045319</td>\n",
       "      <td>-0.007801</td>\n",
       "      <td>0.046190</td>\n",
       "      <td>-0.052575</td>\n",
       "      <td>-0.009507</td>\n",
       "      <td>-0.085788</td>\n",
       "      <td>0.007440</td>\n",
       "      <td>0.087125</td>\n",
       "    </tr>\n",
       "  </tbody>\n",
       "</table>\n",
       "</div>"
      ],
      "text/plain": [
       "           0         1         2         3         4         5         6  \\\n",
       "0  -0.006445  0.053770  0.043996  0.001513  0.030903  0.005937 -0.059703   \n",
       "1   0.006317  0.028329  0.026945 -0.008623  0.061000  0.033060  0.000232   \n",
       "2   0.092436  0.071748  0.047076  0.051690  0.000722  0.017235 -0.028312   \n",
       "3   0.132012  0.095541  0.082435 -0.039043  0.054603 -0.079301 -0.126485   \n",
       "4  -0.012164 -0.065566  0.031306 -0.045708 -0.028781 -0.031413 -0.033747   \n",
       "5   0.036690  0.045270 -0.026841 -0.105856  0.092024 -0.120458 -0.092930   \n",
       "6  -0.029613  0.007504  0.021186 -0.050232  0.046458 -0.010115 -0.000169   \n",
       "7  -0.024314  0.042671 -0.003475 -0.035902  0.043274 -0.047120 -0.032321   \n",
       "8   0.085031  0.082097 -0.045319 -0.007801  0.046190 -0.052575 -0.009507   \n",
       "9   0.085031  0.082097 -0.045319 -0.007801  0.046190 -0.052575 -0.009507   \n",
       "10  0.085031  0.082097 -0.045319 -0.007801  0.046190 -0.052575 -0.009507   \n",
       "11  0.085031  0.082097 -0.045319 -0.007801  0.046190 -0.052575 -0.009507   \n",
       "12  0.085031  0.082097 -0.045319 -0.007801  0.046190 -0.052575 -0.009507   \n",
       "13  0.085031  0.082097 -0.045319 -0.007801  0.046190 -0.052575 -0.009507   \n",
       "14  0.085031  0.082097 -0.045319 -0.007801  0.046190 -0.052575 -0.009507   \n",
       "15  0.085031  0.082097 -0.045319 -0.007801  0.046190 -0.052575 -0.009507   \n",
       "16  0.085031  0.082097 -0.045319 -0.007801  0.046190 -0.052575 -0.009507   \n",
       "17  0.085031  0.082097 -0.045319 -0.007801  0.046190 -0.052575 -0.009507   \n",
       "18  0.085031  0.082097 -0.045319 -0.007801  0.046190 -0.052575 -0.009507   \n",
       "19  0.085031  0.082097 -0.045319 -0.007801  0.046190 -0.052575 -0.009507   \n",
       "\n",
       "           7         8         9  \n",
       "0  -0.075510 -0.012467  0.028569  \n",
       "1   0.019226 -0.026690 -0.006966  \n",
       "2  -0.028541 -0.024147  0.095749  \n",
       "3  -0.128663  0.030744  0.058970  \n",
       "4   0.102661 -0.016219 -0.031906  \n",
       "5   0.005309  0.133586  0.032717  \n",
       "6  -0.035338 -0.005546  0.019186  \n",
       "7  -0.027609  0.034321  0.033411  \n",
       "8  -0.085788  0.007440  0.087125  \n",
       "9  -0.085788  0.007440  0.087125  \n",
       "10 -0.085788  0.007440  0.087125  \n",
       "11 -0.085788  0.007440  0.087125  \n",
       "12 -0.085788  0.007440  0.087125  \n",
       "13 -0.085788  0.007440  0.087125  \n",
       "14 -0.085788  0.007440  0.087125  \n",
       "15 -0.085788  0.007440  0.087125  \n",
       "16 -0.085788  0.007440  0.087125  \n",
       "17 -0.085788  0.007440  0.087125  \n",
       "18 -0.085788  0.007440  0.087125  \n",
       "19 -0.085788  0.007440  0.087125  "
      ]
     },
     "execution_count": 22,
     "metadata": {},
     "output_type": "execute_result"
    }
   ],
   "source": [
    "df1"
   ]
  },
  {
   "cell_type": "markdown",
   "metadata": {},
   "source": [
    "# Evaluate in test set"
   ]
  },
  {
   "cell_type": "code",
   "execution_count": 23,
   "metadata": {},
   "outputs": [
    {
     "data": {
      "text/plain": [
       "0.9838709677419355"
      ]
     },
     "execution_count": 23,
     "metadata": {},
     "output_type": "execute_result"
    }
   ],
   "source": [
    "# Predict binary and probabilities\n",
    "predictions_df = pd.DataFrame(model.predict(testFeatures))\n",
    "predictions_binary_df = round(predictions_df)\n",
    "accuracy_score(testLabels, predictions_binary_df)"
   ]
  },
  {
   "cell_type": "code",
   "execution_count": 24,
   "metadata": {},
   "outputs": [
    {
     "data": {
      "text/plain": [
       "0.0    482\n",
       "1.0    76 \n",
       "Name: 0, dtype: int64"
      ]
     },
     "execution_count": 24,
     "metadata": {},
     "output_type": "execute_result"
    }
   ],
   "source": [
    "predictions_binary_df[0].value_counts(dropna=False)"
   ]
  },
  {
   "cell_type": "markdown",
   "metadata": {},
   "source": [
    "# Save model architecture and pre-trained weights for Flask"
   ]
  },
  {
   "cell_type": "code",
   "execution_count": 25,
   "metadata": {},
   "outputs": [],
   "source": [
    "# save to the directory with flask app\n",
    "current_dir = os.getcwd()\n",
    "output_dir = re.sub('Model and data', 'Flask application', current_dir)\n",
    "os.chdir(output_dir)"
   ]
  },
  {
   "cell_type": "code",
   "execution_count": 26,
   "metadata": {},
   "outputs": [],
   "source": [
    "# save tokenizer for preprocessing\n",
    "with open('tokenizer.pickle', 'wb') as handle:\n",
    "    pickle.dump(tokenizer, handle, protocol=pickle.HIGHEST_PROTOCOL)"
   ]
  },
  {
   "cell_type": "code",
   "execution_count": 27,
   "metadata": {},
   "outputs": [],
   "source": [
    "# serialize model to JSON for Flask App\n",
    "model_json = model.to_json()\n",
    "with open(\"model.json\", \"w\") as json_file:\n",
    "    json_file.write(model_json)"
   ]
  },
  {
   "cell_type": "code",
   "execution_count": 28,
   "metadata": {},
   "outputs": [],
   "source": [
    "# serialize weights to HDF5\n",
    "model.save_weights(\"model.h5\")"
   ]
  }
 ],
 "metadata": {
  "kernelspec": {
   "display_name": "Python 3",
   "language": "python",
   "name": "python3"
  },
  "language_info": {
   "codemirror_mode": {
    "name": "ipython",
    "version": 3
   },
   "file_extension": ".py",
   "mimetype": "text/x-python",
   "name": "python",
   "nbconvert_exporter": "python",
   "pygments_lexer": "ipython3",
   "version": "3.6.5"
  }
 },
 "nbformat": 4,
 "nbformat_minor": 2
}
